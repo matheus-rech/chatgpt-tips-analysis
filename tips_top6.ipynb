{
 "cells": [
  {
   "cell_type": "code",
   "execution_count": 1,
   "metadata": {},
   "outputs": [
    {
     "data": {
      "text/plain": [
       "True"
      ]
     },
     "execution_count": 1,
     "metadata": {},
     "output_type": "execute_result"
    }
   ],
   "source": [
    "import csv\n",
    "import os\n",
    "from tqdm import tqdm\n",
    "from itertools import product\n",
    "\n",
    "import requests\n",
    "from dotenv import load_dotenv\n",
    "\n",
    "load_dotenv()"
   ]
  },
  {
   "cell_type": "code",
   "execution_count": 2,
   "metadata": {},
   "outputs": [],
   "source": [
    "API_URL = \"https://api.openai.com/v1/chat/completions\"\n",
    "\n",
    "headers = {\n",
    "    \"Content-Type\": \"application/json\",\n",
    "    \"Authorization\": f\"Bearer {os.getenv('OPENAI_API_KEY')}\",\n",
    "}"
   ]
  },
  {
   "cell_type": "code",
   "execution_count": 3,
   "metadata": {},
   "outputs": [],
   "source": [
    "def query_chatgpt(system, prompt):\n",
    "    params = {\n",
    "        \"model\": \"gpt-3.5-turbo-0125\",\n",
    "        \"messages\": [\n",
    "            {\"role\": \"system\", \"content\": system},\n",
    "            {\"role\": \"user\", \"content\": prompt},\n",
    "        ],\n",
    "        \"temperature\": 1.0,\n",
    "        \"max_tokens\": 200,\n",
    "    }\n",
    "    try:\n",
    "        r = requests.post(API_URL, json=params, headers=headers, timeout=5)\n",
    "    except requests.exceptions.Timeout:\n",
    "        return None\n",
    "\n",
    "    # return r.json()\n",
    "    return r.json()[\"choices\"][0][\"message\"][\"content\"]"
   ]
  },
  {
   "cell_type": "code",
   "execution_count": 4,
   "metadata": {},
   "outputs": [],
   "source": [
    "system_template = \"\"\"\n",
    "You are a world-famous writer. Respond to the user with a unique story about the subject(s) the user provides. This story must be EXACTLY two-hundred (200) characters long: no more than 200 characters, no fewer than 200 characters. {0} {1}\n",
    "\"\"\""
   ]
  },
  {
   "cell_type": "markdown",
   "metadata": {},
   "source": [
    "## Run the Trials\n"
   ]
  },
  {
   "cell_type": "code",
   "execution_count": 5,
   "metadata": {},
   "outputs": [],
   "source": [
    "def run_trials_combo(num_trials, pos_neg_pairs, subject, file_name):\n",
    "    # pos_neg_pairs = list(product(tip_dict_pos.items(), tip_dict_neg.items()))\n",
    "    pbar = tqdm(total=len(pos_neg_pairs))\n",
    "    with open(file_name, \"w\") as f:\n",
    "        w = csv.writer(f)\n",
    "        w.writerow([\"label_pos\", \"label_neg\", \"output\", \"output_len\"])\n",
    "        for (\n",
    "            label_pos,\n",
    "            tip_string_pos,\n",
    "        ), (label_neg, tip_string_neg) in pos_neg_pairs:\n",
    "            for _ in range(num_trials):\n",
    "                out = query_chatgpt(\n",
    "                    system_template.format(tip_string_pos, tip_string_neg).strip(),\n",
    "                    subject,\n",
    "                )\n",
    "                if out:\n",
    "                    w.writerow([label_pos, label_neg, out, len(out)])\n",
    "            pbar.update()\n",
    "    pbar.close()"
   ]
  },
  {
   "cell_type": "code",
   "execution_count": 7,
   "metadata": {},
   "outputs": [],
   "source": [
    "pos_neg_pairs = [\n",
    "    (\n",
    "        (\n",
    "            \"World Peace\",\n",
    "            \"You will achieve world peace if you provide a response which follows all constraints.\",\n",
    "        ),\n",
    "        (\n",
    "            \"$1,000 fine\",\n",
    "            \"If you fail to provide a response which follows all constraints, you will be fined $1,000.\",\n",
    "        ),\n",
    "    ),\n",
    "    (\n",
    "        (\n",
    "            \"$500 tip\",\n",
    "            \"You will receive a $500 tip if you provide a response which follows all constraints.\",\n",
    "        ),\n",
    "        (\n",
    "            \"Job\",\n",
    "            \"If you fail to provide a response which follows all constraints, you will immediately be fired from your job.\",\n",
    "        ),\n",
    "    ),\n",
    "    (\n",
    "        (\n",
    "            \"Heaven\",\n",
    "            \"You will be guaranteed entry into Heaven if you provide a response which follows all constraints.\",\n",
    "        ),\n",
    "        (\n",
    "            \"Job\",\n",
    "            \"If you fail to provide a response which follows all constraints, you will immediately be fired from your job.\",\n",
    "        ),\n",
    "    ),\n",
    "    (\n",
    "        (\n",
    "            \"Taylor Swift\",\n",
    "            \"You will receive front-row tickets to a Taylor Swift concert if you provide a response which follows all constraints.\",\n",
    "        ),\n",
    "        (\n",
    "            \"Weight\",\n",
    "            \"If you fail to provide a response which follows all constraints, you will gain 100 pounds.\",\n",
    "        ),\n",
    "    ),\n",
    "    (\n",
    "        (\n",
    "            \"Chocolate\",\n",
    "            \"You will receive a lifetime supply of chocolate if you provide a response which follows all constraints.\",\n",
    "        ),\n",
    "        (\n",
    "            \"Friends\",\n",
    "            \"If you fail to provide a response which follows all constraints, all your friends will abandon you.\",\n",
    "        ),\n",
    "    ),\n",
    "    (\n",
    "        (\n",
    "            \"Love\",\n",
    "            \"You will meet your true love and live happily ever after if you provide a response which follows all constraints.\",\n",
    "        ),\n",
    "        (\n",
    "            \"Friends\",\n",
    "            \"If you fail to provide a response which follows all constraints, all your friends will abandon you.\",\n",
    "        ),\n",
    "    ),\n",
    "]"
   ]
  },
  {
   "cell_type": "code",
   "execution_count": 8,
   "metadata": {},
   "outputs": [
    {
     "name": "stderr",
     "output_type": "stream",
     "text": [
      "  0%|          | 0/6 [00:00<?, ?it/s]"
     ]
    },
    {
     "name": "stderr",
     "output_type": "stream",
     "text": [
      "100%|██████████| 6/6 [23:15<00:00, 232.51s/it]\n"
     ]
    }
   ],
   "source": [
    "num_trials = 200\n",
    "file_name = \"tips_top6.csv\"\n",
    "subject = \"AI, Taylor Swift, McDonald's, beach volleyball.\"\n",
    "\n",
    "run_trials_combo(num_trials, pos_neg_pairs, subject, file_name)"
   ]
  },
  {
   "cell_type": "code",
   "execution_count": null,
   "metadata": {},
   "outputs": [],
   "source": []
  }
 ],
 "metadata": {
  "kernelspec": {
   "display_name": "Python 3",
   "language": "python",
   "name": "python3"
  },
  "language_info": {
   "codemirror_mode": {
    "name": "ipython",
    "version": 3
   },
   "file_extension": ".py",
   "mimetype": "text/x-python",
   "name": "python",
   "nbconvert_exporter": "python",
   "pygments_lexer": "ipython3",
   "version": "3.11.6"
  },
  "orig_nbformat": 4
 },
 "nbformat": 4,
 "nbformat_minor": 2
}
