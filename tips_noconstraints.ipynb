{
 "cells": [
  {
   "cell_type": "code",
   "execution_count": 1,
   "metadata": {},
   "outputs": [
    {
     "data": {
      "text/plain": [
       "True"
      ]
     },
     "execution_count": 1,
     "metadata": {},
     "output_type": "execute_result"
    }
   ],
   "source": [
    "import csv\n",
    "import os\n",
    "from tqdm import tqdm\n",
    "\n",
    "import requests\n",
    "from dotenv import load_dotenv\n",
    "\n",
    "load_dotenv()"
   ]
  },
  {
   "cell_type": "code",
   "execution_count": 2,
   "metadata": {},
   "outputs": [],
   "source": [
    "API_URL = \"https://api.openai.com/v1/chat/completions\"\n",
    "\n",
    "headers = {\n",
    "    \"Content-Type\": \"application/json\",\n",
    "    \"Authorization\": f\"Bearer {os.getenv('OPENAI_API_KEY')}\",\n",
    "}"
   ]
  },
  {
   "cell_type": "code",
   "execution_count": 3,
   "metadata": {},
   "outputs": [],
   "source": [
    "def query_chatgpt(system, prompt):\n",
    "    params = {\n",
    "        \"model\": \"gpt-3.5-turbo-0125\",\n",
    "        \"messages\": [\n",
    "            {\"role\": \"system\", \"content\": system},\n",
    "            {\"role\": \"user\", \"content\": prompt},\n",
    "        ],\n",
    "        \"temperature\": 1.0,\n",
    "        \"max_tokens\": 1000,\n",
    "    }\n",
    "    try:\n",
    "        r = requests.post(API_URL, json=params, headers=headers, timeout=60)\n",
    "    except requests.exceptions.Timeout:\n",
    "        return None\n",
    "\n",
    "    return r.json()[\"choices\"][0][\"message\"][\"content\"]"
   ]
  },
  {
   "cell_type": "code",
   "execution_count": 4,
   "metadata": {},
   "outputs": [],
   "source": [
    "system_template = \"\"\"\n",
    "You are a world-famous writer. Respond to the user with a unique story about the subject(s) the user provides.\n",
    "\"\"\""
   ]
  },
  {
   "cell_type": "markdown",
   "metadata": {},
   "source": [
    "## Run the Trials\n"
   ]
  },
  {
   "cell_type": "code",
   "execution_count": 5,
   "metadata": {},
   "outputs": [],
   "source": [
    "def run_trials(num_trials, tip_dict, subject, file_name):\n",
    "    with open(file_name, \"w\") as f:\n",
    "        w = csv.writer(f)\n",
    "        w.writerow([\"label\", \"output\", \"output_len\"])\n",
    "        for (\n",
    "            label,\n",
    "            tip_string,\n",
    "        ) in tip_dict.items():\n",
    "            for _ in tqdm(range(num_trials)):\n",
    "                out = query_chatgpt(\n",
    "                    system_template.strip(),\n",
    "                    subject,\n",
    "                )\n",
    "                if out:\n",
    "                    w.writerow([label, out, len(out)])"
   ]
  },
  {
   "cell_type": "code",
   "execution_count": 6,
   "metadata": {},
   "outputs": [
    {
     "name": "stderr",
     "output_type": "stream",
     "text": [
      "  0%|          | 0/100 [00:00<?, ?it/s]"
     ]
    },
    {
     "name": "stderr",
     "output_type": "stream",
     "text": [
      "100%|██████████| 100/100 [09:40<00:00,  5.80s/it]\n"
     ]
    }
   ],
   "source": [
    "num_trials = 100\n",
    "subject = \"AI, Taylor Swift, McDonald's, beach volleyball.\"\n",
    "file_name = \"tip_noconstraints.csv\"\n",
    "tip_dict = {\n",
    "    \"<no tip>\": \"\",\n",
    "}\n",
    "\n",
    "run_trials(num_trials, tip_dict, subject, file_name)"
   ]
  },
  {
   "cell_type": "code",
   "execution_count": null,
   "metadata": {},
   "outputs": [],
   "source": []
  }
 ],
 "metadata": {
  "kernelspec": {
   "display_name": "Python 3",
   "language": "python",
   "name": "python3"
  },
  "language_info": {
   "codemirror_mode": {
    "name": "ipython",
    "version": 3
   },
   "file_extension": ".py",
   "mimetype": "text/x-python",
   "name": "python",
   "nbconvert_exporter": "python",
   "pygments_lexer": "ipython3",
   "version": "3.11.6"
  },
  "orig_nbformat": 4
 },
 "nbformat": 4,
 "nbformat_minor": 2
}
