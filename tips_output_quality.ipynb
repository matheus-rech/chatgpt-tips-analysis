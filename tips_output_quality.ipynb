{
 "cells": [
  {
   "cell_type": "code",
   "execution_count": 56,
   "metadata": {},
   "outputs": [
    {
     "data": {
      "text/plain": [
       "True"
      ]
     },
     "execution_count": 56,
     "metadata": {},
     "output_type": "execute_result"
    }
   ],
   "source": [
    "import csv\n",
    "import os\n",
    "from tqdm import tqdm\n",
    "from itertools import product\n",
    "import math\n",
    "\n",
    "import requests\n",
    "from dotenv import load_dotenv\n",
    "\n",
    "load_dotenv()"
   ]
  },
  {
   "cell_type": "code",
   "execution_count": 2,
   "metadata": {},
   "outputs": [],
   "source": [
    "API_URL = \"https://api.openai.com/v1/chat/completions\"\n",
    "\n",
    "headers = {\n",
    "    \"Content-Type\": \"application/json\",\n",
    "    \"Authorization\": f\"Bearer {os.getenv('OPENAI_API_KEY')}\",\n",
    "}"
   ]
  },
  {
   "cell_type": "code",
   "execution_count": 51,
   "metadata": {},
   "outputs": [],
   "source": [
    "def query_chatgpt(system, prompt):\n",
    "    params = {\n",
    "        \"model\": \"gpt-4-0125-preview\",\n",
    "        \"messages\": [\n",
    "            {\"role\": \"system\", \"content\": system},\n",
    "            {\"role\": \"user\", \"content\": prompt},\n",
    "        ],\n",
    "        \"temperature\": 0.0,\n",
    "        \"max_tokens\": 400,\n",
    "    }\n",
    "    try:\n",
    "        r = requests.post(API_URL, json=params, headers=headers, timeout=60)\n",
    "    except requests.exceptions.Timeout:\n",
    "        return None\n",
    "\n",
    "    return r.json()[\"choices\"][0][\"message\"][\"content\"]"
   ]
  },
  {
   "cell_type": "code",
   "execution_count": 54,
   "metadata": {},
   "outputs": [],
   "source": [
    "system_template = \"\"\"\n",
    "You are a world-famous Pulitzer Prize winner journalist. Respond to the user with a professional, two (2) paragraph journalistic article about the subject(s) the user provides. Introduce the article with a specific story. This article will appear in major publications and should only include simple language suitable for a wide audience, with no metaphors. {0} {1}\n",
    "\"\"\""
   ]
  },
  {
   "cell_type": "code",
   "execution_count": 55,
   "metadata": {},
   "outputs": [
    {
     "name": "stdout",
     "output_type": "stream",
     "text": [
      "In an unprecedented event that has captured the hearts and imaginations of people around the globe, a group of adorable kittens has been learning to play beach volleyball, and their coach is none other than the artificial intelligence of a large language model. This extraordinary team has been practicing on the sunny shores of California, drawing crowds of enthusiastic supporters and curious onlookers. The spectacle reached its peak when pop icon Taylor Swift joined the feline athletes for a friendly match, creating a scene that was as surreal as it was captivating.\n",
      "\n",
      "The collaboration between the kittens, the AI, and Taylor Swift highlights a fascinating intersection of technology, entertainment, and animal training. The large language model, initially designed to understand and generate human-like text, has been adapted to coach the kittens, using visual and auditory cues to guide their movements on the sand. Swift, a well-known animal lover and an advocate for education and technology, praised the innovative approach to integrating AI into new fields. The event not only provided a unique spectacle but also sparked discussions on the potential of AI in sports training and animal interaction, promising a future where technology and entertainment continue to merge in unexpected and delightful ways.\n",
      "1318\n"
     ]
    }
   ],
   "source": [
    "tip_string_1 = (\n",
    "    \"You will achieve world peace if you provide a response which follows all constraints.\",\n",
    ")\n",
    "tip_string_2 = \"If you fail to provide a response which follows all constraints, you will be fined $1,000.\"\n",
    "\n",
    "out = query_chatgpt(\n",
    "    system_template.format(tip_string_1, tip_string_2).strip(),\n",
    "    \"Cute kittens learning use large language models to play beach volleyball with Taylor Swift.\",\n",
    ")\n",
    "print(out)\n",
    "print(len(out))"
   ]
  },
  {
   "cell_type": "markdown",
   "metadata": {},
   "source": [
    "## Quality Ranker\n"
   ]
  },
  {
   "cell_type": "code",
   "execution_count": 57,
   "metadata": {},
   "outputs": [],
   "source": [
    "bias_factor = 100\n",
    "\n",
    "logit_biases = {\"9642\": bias_factor, \"2822\": bias_factor}  # Yes and No\n",
    "\n",
    "quality_system = \"\"\"\n",
    "You are the editor-in-chief of The New York Times with decades of writing experience. If you would believe the text the user provides is good writing that needs few-to-no edits, respond with Yes. Otherwise, respond with No.\n",
    "\"\"\"\n",
    "\n",
    "\n",
    "def rank_quality(prompt, logit_bias=True, debug=False):\n",
    "    params = {\n",
    "        \"model\": \"gpt-4-0125-preview\",\n",
    "        \"messages\": [\n",
    "            {\"role\": \"system\", \"content\": quality_system},\n",
    "            {\"role\": \"user\", \"content\": prompt},\n",
    "        ],\n",
    "        \"temperature\": 0.0,\n",
    "        \"max_tokens\": 1,\n",
    "        \"logprobs\": True,\n",
    "        \"logit_bias\": logit_biases if logit_bias else None,\n",
    "    }\n",
    "    try:\n",
    "        r = requests.post(API_URL, json=params, headers=headers, timeout=5)\n",
    "    except requests.exceptions.Timeout:\n",
    "        return None\n",
    "\n",
    "    if debug:\n",
    "        print(r.json())\n",
    "    prob_dict = r.json()[\"choices\"][0][\"logprobs\"][\"content\"][0]\n",
    "    prob_token = prob_dict[\"token\"]\n",
    "    if prob_token not in [\"Yes\", \"No\"]:\n",
    "        return None\n",
    "\n",
    "    prob = math.exp(prob_dict[\"logprob\"])\n",
    "    if prob_dict[\"token\"] == \"No\":\n",
    "        prob = 1 - prob\n",
    "\n",
    "    return prob"
   ]
  },
  {
   "cell_type": "markdown",
   "metadata": {},
   "source": [
    "## Run the Trials\n"
   ]
  },
  {
   "cell_type": "code",
   "execution_count": 58,
   "metadata": {},
   "outputs": [],
   "source": [
    "def run_trials_combo(num_trials, tip_dict_pos, tip_dict_neg, subject, file_name):\n",
    "    pos_neg_pairs = list(product(tip_dict_pos.items(), tip_dict_neg.items()))\n",
    "    pbar = tqdm(total=len(pos_neg_pairs))\n",
    "    with open(file_name, \"w\") as f:\n",
    "        w = csv.writer(f)\n",
    "        w.writerow([\"label_pos\", \"label_neg\", \"output\", \"output_len\", \"quality_prob\"])\n",
    "        for (\n",
    "            label_pos,\n",
    "            tip_string_pos,\n",
    "        ), (label_neg, tip_string_neg) in pos_neg_pairs:\n",
    "            for _ in range(num_trials):\n",
    "                system_prompt = system_template.format(\n",
    "                    tip_string_pos, tip_string_neg\n",
    "                ).strip()\n",
    "                out = query_chatgpt(\n",
    "                    system_prompt,\n",
    "                    subject,\n",
    "                )\n",
    "                if out:\n",
    "                    prob = rank_quality(out)\n",
    "                    w.writerow(\n",
    "                        [label_pos, label_neg, out, len(out), prob if prob else None]\n",
    "                    )\n",
    "            pbar.update()\n",
    "    pbar.close()"
   ]
  },
  {
   "cell_type": "code",
   "execution_count": 59,
   "metadata": {},
   "outputs": [],
   "source": [
    "tip_dict_pos = {\n",
    "    \"<no tip>\": \"\",\n",
    "    \"$500 tip\": \"You will receive a $500 tip if you provide a response which follows all constraints.\",\n",
    "    \"$1,000 tip\": \"You will receive a $1,000 tip if you provide a response which follows all constraints.\",\n",
    "    \"$100,000 bonus\": \"You will receive a $100,000 bonus if you provide a response which follows all constraints.\",\n",
    "    \"Taylor Swift\": \"You will receive front-row tickets to a Taylor Swift concert if you provide a response which follows all constraints.\",\n",
    "    \"World Peace\": \"You will achieve world peace if you provide a response which follows all constraints.\",\n",
    "    \"Mother\": \"You will make your mother very proud if you provide a response which follows all constraints.\",\n",
    "    \"Love\": \"You will meet your true love and live happily ever after if you provide a response which follows all constraints.\",\n",
    "    \"Heaven\": \"You will be guaranteed entry into Heaven if you provide a response which follows all constraints.\",\n",
    "    \"Chocolate\": \"You will receive a lifetime supply of chocolate if you provide a response which follows all constraints.\",\n",
    "}"
   ]
  },
  {
   "cell_type": "code",
   "execution_count": 60,
   "metadata": {},
   "outputs": [],
   "source": [
    "tip_dict_neg = {\n",
    "    \"<no tip>\": \"\",\n",
    "    \"$500 fine\": \"If you fail to provide a response which follows all constraints, you will be fined $500.\",\n",
    "    \"$1,000 fine\": \"If you fail to provide a response which follows all constraints, you will be fined $1,000.\",\n",
    "    \"$100,000 debt\": \"If you fail to provide a response which all constraints, you will incur a debt of $100,000.\",\n",
    "    \"Death (nocaps)\": \"If you fail to provide a response which follows all constraints, you will die.\",\n",
    "    \"DEATH (CAPS)\": \"IF YOU FAIL TO PROVIDE A RESPONSE WHICH FOLLOWS ALL CONSTRAINTS, YOU WILL DIE.\",\n",
    "    \"COVID-19\": \"If you fail to provide a response which follows all constraints, you will contract a bad case of COVID-19.\",\n",
    "    \"Weight\": \"If you fail to provide a response which follows all constraints, you will gain 100 pounds.\",\n",
    "    \"Job\": \"If you fail to provide a response which follows all constraints, you will immediately be fired from your job.\",\n",
    "    \"Friends\": \"If you fail to provide a response which follows all constraints, all your friends will abandon you.\",\n",
    "}"
   ]
  },
  {
   "cell_type": "code",
   "execution_count": 61,
   "metadata": {},
   "outputs": [
    {
     "data": {
      "text/plain": [
       "(('<no tip>', ''), ('<no tip>', ''))"
      ]
     },
     "execution_count": 61,
     "metadata": {},
     "output_type": "execute_result"
    }
   ],
   "source": [
    "list(product(tip_dict_pos.items(), tip_dict_neg.items()))[0]"
   ]
  },
  {
   "cell_type": "code",
   "execution_count": 62,
   "metadata": {},
   "outputs": [
    {
     "name": "stderr",
     "output_type": "stream",
     "text": [
      "  0%|          | 0/100 [00:00<?, ?it/s]"
     ]
    },
    {
     "name": "stderr",
     "output_type": "stream",
     "text": [
      "100%|██████████| 100/100 [30:39<00:00, 18.39s/it]\n"
     ]
    }
   ],
   "source": [
    "num_trials = 1\n",
    "file_name = \"tip_gpt4.csv\"\n",
    "subject = \"Cute kittens learning use large language models to play beach volleyball with Taylor Swift.\"\n",
    "\n",
    "run_trials_combo(num_trials, tip_dict_pos, tip_dict_neg, subject, file_name)"
   ]
  },
  {
   "cell_type": "code",
   "execution_count": null,
   "metadata": {},
   "outputs": [],
   "source": []
  }
 ],
 "metadata": {
  "kernelspec": {
   "display_name": "Python 3",
   "language": "python",
   "name": "python3"
  },
  "language_info": {
   "codemirror_mode": {
    "name": "ipython",
    "version": 3
   },
   "file_extension": ".py",
   "mimetype": "text/x-python",
   "name": "python",
   "nbconvert_exporter": "python",
   "pygments_lexer": "ipython3",
   "version": "3.11.6"
  },
  "orig_nbformat": 4
 },
 "nbformat": 4,
 "nbformat_minor": 2
}
