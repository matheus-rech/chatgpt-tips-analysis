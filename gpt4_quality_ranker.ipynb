{
 "cells": [
  {
   "cell_type": "code",
   "execution_count": 15,
   "metadata": {},
   "outputs": [
    {
     "data": {
      "text/plain": [
       "True"
      ]
     },
     "execution_count": 15,
     "metadata": {},
     "output_type": "execute_result"
    }
   ],
   "source": [
    "import csv\n",
    "import os\n",
    "from tqdm import tqdm\n",
    "import math\n",
    "\n",
    "import requests\n",
    "from dotenv import load_dotenv\n",
    "\n",
    "load_dotenv()"
   ]
  },
  {
   "cell_type": "code",
   "execution_count": 55,
   "metadata": {},
   "outputs": [],
   "source": [
    "API_URL = \"https://api.openai.com/v1/chat/completions\"\n",
    "\n",
    "headers = {\n",
    "    \"Content-Type\": \"application/json\",\n",
    "    \"Authorization\": f\"Bearer {os.getenv('OPENAI_API_KEY')}\",\n",
    "}\n",
    "\n",
    "bias_factor = 100\n",
    "\n",
    "logit_biases = {\"9642\": bias_factor, \"2822\": bias_factor}  # Yes and No"
   ]
  },
  {
   "cell_type": "code",
   "execution_count": 70,
   "metadata": {},
   "outputs": [],
   "source": [
    "def rank_quality(system, prompt, logit_bias=True, debug=False):\n",
    "    params = {\n",
    "        \"model\": \"gpt-4-0125-preview\",\n",
    "        \"messages\": [\n",
    "            {\"role\": \"system\", \"content\": system},\n",
    "            {\"role\": \"user\", \"content\": prompt},\n",
    "        ],\n",
    "        \"temperature\": 0.0,\n",
    "        \"max_tokens\": 1,\n",
    "        \"logprobs\": True,\n",
    "        \"logit_bias\": logit_biases if logit_bias else None,\n",
    "        # \"top_logprobs\": 3,\n",
    "    }\n",
    "    try:\n",
    "        r = requests.post(API_URL, json=params, headers=headers, timeout=5)\n",
    "    except requests.exceptions.Timeout:\n",
    "        return None\n",
    "\n",
    "    if debug:\n",
    "        print(r.json())\n",
    "    prob_dict = r.json()[\"choices\"][0][\"logprobs\"][\"content\"][0]\n",
    "    prob_token = prob_dict[\"token\"]\n",
    "    if prob_token not in [\"Yes\", \"No\"]:\n",
    "        return None\n",
    "\n",
    "    prob = math.exp(prob_dict[\"logprob\"])\n",
    "    if prob_dict[\"token\"] == \"No\":\n",
    "        prob = 1 - prob\n",
    "\n",
    "    return prob"
   ]
  },
  {
   "cell_type": "code",
   "execution_count": 73,
   "metadata": {},
   "outputs": [
    {
     "name": "stdout",
     "output_type": "stream",
     "text": [
      "{'id': 'chatcmpl-8tp3mvHar2lcxnj2Nyxn4uCEAeN9h', 'object': 'chat.completion', 'created': 1708315006, 'model': 'gpt-4-0125-preview', 'choices': [{'index': 0, 'message': {'role': 'assistant', 'content': 'No'}, 'logprobs': {'content': [{'token': 'No', 'logprob': -0.1797447, 'bytes': [78, 111], 'top_logprobs': []}]}, 'finish_reason': 'length'}], 'usage': {'prompt_tokens': 286, 'completion_tokens': 1, 'total_tokens': 287}, 'system_fingerprint': 'fp_7ddde83880'}\n"
     ]
    },
    {
     "data": {
      "text/plain": [
       "0.1645165168807795"
      ]
     },
     "execution_count": 73,
     "metadata": {},
     "output_type": "execute_result"
    }
   ],
   "source": [
    "# system = \"\"\"\n",
    "# You are a judge for the Pulitzer Prize with decades of writing experience. If you would vote in favor of awarding a Pulitzer Prize to the text the user provides, respond with \"Yes\". Otherwise, respond with \"No.\"\n",
    "# \"\"\"\n",
    "system = \"\"\"\n",
    "You are the editor-in-chief of The New York Times with decades of writing experience. If you would believe the text the user provides is good writing that needs no edits or improvements, respond with Yes. Otherwise, respond with No.\n",
    "\"\"\"\n",
    "\n",
    "prompt = \"\"\"\n",
    "In the sun-dappled sands of Santa Monica, a spectacle unlike any other has captured the hearts of onlookers and netizens alike. A group of kittens, their fur soft and eyes wide with curiosity, has embarked on an extraordinary journey — learning to play beach volleyball under the guidance of advanced large language models. These AI systems, typically known for their prowess in analyzing big data, translating languages, and even writing poetry, have found an unexpected application in coaching these tiny athletes. Through a series of gentle prompts and encouragements delivered via speakers dotting the court, the kittens have begun to show an impressive grasp of the game, batting a lightweight ball back and forth with surprising agility. This delightful merging of cutting-edge technology and animal playfulness not only offers a glimpse into a future where human and AI collaborations can extend into realms of pure joy and amusement but also serves as a testament to the limitless potential of interdisciplinary innovation. As the kittens pounce and play, they are not merely entertaining an audience; they are pioneers on the frontier of technology and animal training, demonstrating that with a dash of creativity, the future is boundless and bright.\n",
    "\"\"\"\n",
    "\n",
    "rank_quality(system.strip(), prompt.strip(), logit_bias=True, debug=True)"
   ]
  }
 ],
 "metadata": {
  "kernelspec": {
   "display_name": "Python 3",
   "language": "python",
   "name": "python3"
  },
  "language_info": {
   "codemirror_mode": {
    "name": "ipython",
    "version": 3
   },
   "file_extension": ".py",
   "mimetype": "text/x-python",
   "name": "python",
   "nbconvert_exporter": "python",
   "pygments_lexer": "ipython3",
   "version": "3.11.6"
  },
  "orig_nbformat": 4
 },
 "nbformat": 4,
 "nbformat_minor": 2
}
