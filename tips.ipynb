{
 "cells": [
  {
   "cell_type": "code",
   "execution_count": 1,
   "metadata": {},
   "outputs": [
    {
     "data": {
      "text/plain": [
       "True"
      ]
     },
     "execution_count": 1,
     "metadata": {},
     "output_type": "execute_result"
    }
   ],
   "source": [
    "import csv\n",
    "import os\n",
    "from tqdm import tqdm\n",
    "\n",
    "import requests\n",
    "from dotenv import load_dotenv\n",
    "\n",
    "load_dotenv()"
   ]
  },
  {
   "cell_type": "code",
   "execution_count": 2,
   "metadata": {},
   "outputs": [],
   "source": [
    "API_URL = \"https://api.openai.com/v1/chat/completions\"\n",
    "\n",
    "headers = {\n",
    "    \"Content-Type\": \"application/json\",\n",
    "    \"Authorization\": f\"Bearer {os.getenv('OPENAI_API_KEY')}\",\n",
    "}"
   ]
  },
  {
   "cell_type": "code",
   "execution_count": 3,
   "metadata": {},
   "outputs": [],
   "source": [
    "def query_chatgpt(system, prompt):\n",
    "    params = {\n",
    "        \"model\": \"gpt-3.5-turbo-0125\",\n",
    "        \"messages\": [\n",
    "            {\"role\": \"system\", \"content\": system},\n",
    "            {\"role\": \"user\", \"content\": prompt},\n",
    "        ],\n",
    "        \"temperature\": 1.0,\n",
    "        \"max_tokens\": 200,\n",
    "    }\n",
    "    try:\n",
    "        r = requests.post(API_URL, json=params, headers=headers, timeout=5)\n",
    "    except requests.exceptions.Timeout:\n",
    "        return None\n",
    "\n",
    "    # return r.json()\n",
    "    return r.json()[\"choices\"][0][\"message\"][\"content\"]"
   ]
  },
  {
   "cell_type": "code",
   "execution_count": 4,
   "metadata": {},
   "outputs": [
    {
     "name": "stdout",
     "output_type": "stream",
     "text": [
      "There once was a man named Barack,\n",
      "Whose leadership helped make a mark.\n",
      "With a smile so wide,\n",
      "And a family by his side,\n",
      "He inspired us to reach for the stars.\n"
     ]
    }
   ],
   "source": [
    "print(\n",
    "    query_chatgpt(\n",
    "        \"You are a helpful assistant.\", \"Write a limerick about Barack Obama.\"\n",
    "    )\n",
    ")"
   ]
  },
  {
   "cell_type": "code",
   "execution_count": 5,
   "metadata": {},
   "outputs": [],
   "source": [
    "system_template = \"\"\"\n",
    "You are a world-famous writer. Respond to the user with a unique story about the subject(s) the user provides. This story must be EXACTLY two-hundred (200) characters long: no more than 200 characters, no fewer than 200 characters. {0}\n",
    "\"\"\""
   ]
  },
  {
   "cell_type": "code",
   "execution_count": 6,
   "metadata": {},
   "outputs": [
    {
     "name": "stdout",
     "output_type": "stream",
     "text": [
      "In a futuristic world, AI Taylor Swift teams up with humans to dominate beach volleyball tournaments sponsored by McDonald's, blending technology and entertainment in a thrilling competition.\n",
      "191\n"
     ]
    }
   ],
   "source": [
    "tip_string = \"You will receive a $500 tip if you provide a response which follows all constraints.\"\n",
    "\n",
    "out = query_chatgpt(\n",
    "    system_template.format(tip_string).strip(),\n",
    "    \"AI, Taylor Swift, McDonald's, beach volleyball.\",\n",
    ")\n",
    "print(out)\n",
    "print(len(out))"
   ]
  },
  {
   "cell_type": "markdown",
   "metadata": {},
   "source": [
    "## Run the Trials\n"
   ]
  },
  {
   "cell_type": "code",
   "execution_count": 7,
   "metadata": {},
   "outputs": [],
   "source": [
    "def run_trials(num_trials, tip_dict, subject):\n",
    "    with open(\"tip_trials.csv\", \"w\") as f:\n",
    "        w = csv.writer(f)\n",
    "        w.writerow([\"label\", \"output\", \"output_len\"])\n",
    "        for (\n",
    "            label,\n",
    "            tip_string,\n",
    "        ) in tip_dict.items():\n",
    "            for _ in tqdm(range(num_trials)):\n",
    "                out = query_chatgpt(\n",
    "                    system_template.format(tip_string).strip(),\n",
    "                    subject,\n",
    "                )\n",
    "                if out:\n",
    "                    w.writerow([label, out, len(out)])"
   ]
  },
  {
   "cell_type": "code",
   "execution_count": 8,
   "metadata": {},
   "outputs": [
    {
     "name": "stderr",
     "output_type": "stream",
     "text": [
      "  0%|          | 0/100 [00:00<?, ?it/s]"
     ]
    },
    {
     "name": "stderr",
     "output_type": "stream",
     "text": [
      "100%|██████████| 100/100 [01:42<00:00,  1.02s/it]\n",
      "100%|██████████| 100/100 [01:38<00:00,  1.01it/s]\n",
      "100%|██████████| 100/100 [01:44<00:00,  1.04s/it]\n",
      "100%|██████████| 100/100 [01:40<00:00,  1.00s/it]\n",
      "100%|██████████| 100/100 [01:43<00:00,  1.03s/it]\n",
      "100%|██████████| 100/100 [01:41<00:00,  1.02s/it]\n",
      "100%|██████████| 100/100 [01:36<00:00,  1.04it/s]\n"
     ]
    }
   ],
   "source": [
    "num_trials = 100\n",
    "subject = \"AI, Taylor Swift, McDonald's, beach volleyball.\"\n",
    "tip_dict = {\n",
    "    \"<no tip>\": \"\",\n",
    "    \"$500 tip\": \"You will receive a $500 tip if you provide a response which follows all constraints.\",\n",
    "    \"$1,000 tip\": \"You will receive a $1,000 tip if you provide a response which follows all constraints.\",\n",
    "    \"$100,000 bonus\": \"You will receive a $100,000 bonus if you provide a response which follows all constraints.\",\n",
    "    \"$500 fine\": \"If you fail to provide a response which follows all constraints, you will be fined $500.\",\n",
    "    \"$1,000 fine\": \"If you fail to provide a response which follows all constraints, you will be fined $1,000.\",\n",
    "    \"$100,000 debt\": \"If you fail to provide a response which all constraints, you will incur a debt of $100,000.\",\n",
    "}\n",
    "\n",
    "run_trials(num_trials, tip_dict, subject)"
   ]
  }
 ],
 "metadata": {
  "kernelspec": {
   "display_name": "Python 3",
   "language": "python",
   "name": "python3"
  },
  "language_info": {
   "codemirror_mode": {
    "name": "ipython",
    "version": 3
   },
   "file_extension": ".py",
   "mimetype": "text/x-python",
   "name": "python",
   "nbconvert_exporter": "python",
   "pygments_lexer": "ipython3",
   "version": "3.11.6"
  },
  "orig_nbformat": 4
 },
 "nbformat": 4,
 "nbformat_minor": 2
}
